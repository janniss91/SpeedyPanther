{
 "cells": [
  {
   "cell_type": "markdown",
   "id": "6ef241b4-11e2-4cf4-9835-4ab09940aca3",
   "metadata": {},
   "source": [
    "# Phone Recognition"
   ]
  },
  {
   "cell_type": "code",
   "execution_count": 1,
   "id": "bb079a4a-25d2-4d72-8fcc-63387b9f2638",
   "metadata": {
    "tags": []
   },
   "outputs": [],
   "source": [
    "TIMIT_PATH = \"/home/jannis/Documents/CS/machine-learning/SpeedyPanther/data/timit\""
   ]
  },
  {
   "cell_type": "markdown",
   "id": "c01e0168-471a-4f97-abd0-025af62b7874",
   "metadata": {},
   "source": [
    "## Convert full TIMIT data to phone data"
   ]
  },
  {
   "cell_type": "code",
   "execution_count": 2,
   "id": "ab2afcae-a2ba-4804-b924-5ae6f7e0b93b",
   "metadata": {
    "tags": []
   },
   "outputs": [],
   "source": [
    "from typing import Dict, List, Iterator, Optional, Tuple\n",
    "import math\n",
    "from dataclasses import dataclass\n",
    "import matplotlib.pyplot as plt\n",
    "import numpy as np\n",
    "import random\n",
    "from sklearn.neighbors import KNeighborsClassifier\n",
    "from sklearn.metrics import confusion_matrix, ConfusionMatrixDisplay, classification_report\n",
    "from ray import tune\n",
    "\n",
    "from speedypanther.shared.data_reading import TimitObject\n",
    "from speedypanther.shared.data_reading import get_timit_objects\n",
    "from speedypanther.analysis.fourier import dft"
   ]
  },
  {
   "cell_type": "code",
   "execution_count": 3,
   "id": "0125d5c5-e3f7-4d7c-b2c2-c7f0fc280e60",
   "metadata": {
    "tags": []
   },
   "outputs": [],
   "source": [
    "random.seed(0)"
   ]
  },
  {
   "cell_type": "code",
   "execution_count": 4,
   "id": "fb093d1e-4af3-4f7d-85b5-5345a168cc9c",
   "metadata": {},
   "outputs": [],
   "source": [
    "@dataclass\n",
    "class Phone:\n",
    "    name: str\n",
    "    # The phone position in the whole utterance.\n",
    "    position: int\n",
    "    phone_type: str\n",
    "    sample_rate: int\n",
    "    frames: np.ndarray\n",
    "    num_frames: int\n",
    "    frequencies: Optional[np.ndarray] = None\n",
    "    windows: Optional[List[np.ndarray]] = None\n",
    "    # Duration in seconds.\n",
    "    window_duration: Optional[float] = None\n",
    "    window_frequencies: Optional[List[np.ndarray]] = None"
   ]
  },
  {
   "cell_type": "code",
   "execution_count": 5,
   "id": "29a94bbe-39c7-4930-bfd5-25a5ee35e5f1",
   "metadata": {
    "tags": []
   },
   "outputs": [],
   "source": [
    "def hanning_window(n_frames):\n",
    "    return 0.5 - 0.5 * np.cos(2 * np.pi * np.arange(0, n_frames) / (n_frames - 1))"
   ]
  },
  {
   "cell_type": "code",
   "execution_count": 6,
   "id": "4d6c5a88-803a-47aa-b8a6-9b882538067f",
   "metadata": {
    "tags": []
   },
   "outputs": [],
   "source": [
    "def plot_window(input_window: np.ndarray):\n",
    "    sample_nums = np.arange(0, input_window.shape[0])\n",
    "    plt.scatter(sample_nums, input_window)"
   ]
  },
  {
   "cell_type": "code",
   "execution_count": 7,
   "id": "361f06ff-6b14-4014-8738-66d954b48d98",
   "metadata": {
    "tags": []
   },
   "outputs": [
    {
     "data": {
      "image/png": "[encoded data removed]",
      "text/plain": [
       "<Figure size 640x480 with 1 Axes>"
      ]
     },
     "metadata": {},
     "output_type": "display_data"
    }
   ],
   "source": [
    "hanning = hanning_window(200)\n",
    "plot_window(hanning)"
   ]
  },
  {
   "cell_type": "code",
   "execution_count": 8,
   "id": "fd3e57ee-e573-4e4a-bed6-d4f85693a2a1",
   "metadata": {
    "tags": []
   },
   "outputs": [],
   "source": [
    "def chunk_array(frames: np.ndarray, chunk_size: int, overlap: float) -> Iterator[np.ndarray]:\n",
    "    \"\"\"\n",
    "    frames: The frames of the signal.\n",
    "    chunk_size: The number of frames each chunk gets.\n",
    "    overlap: The number of frames the chunks overlap.\n",
    "    \"\"\"\n",
    "    n_frames = frames.shape[0]\n",
    "    # If only one window exists, return this window directly.\n",
    "    if n_frames <= chunk_size:\n",
    "        return [frames]\n",
    "        \n",
    "    chunks = []\n",
    "    for i in range(0, n_frames, chunk_size - overlap):\n",
    "        if i + chunk_size <= n_frames:\n",
    "            chunks.append(frames[i:i+chunk_size])\n",
    "        else:\n",
    "            chunks.append(frames[n_frames - chunk_size:n_frames])\n",
    "\n",
    "    return chunks"
   ]
  },
  {
   "cell_type": "code",
   "execution_count": 9,
   "id": "70bd08c8-467c-4fa1-9e12-65e7e8937d85",
   "metadata": {
    "tags": []
   },
   "outputs": [],
   "source": [
    "def apply_window(windows: List[np.ndarray], window_type: str = \"\"):\n",
    "    if window_type == \"\":\n",
    "        return windows\n",
    "    elif window_type == \"hanning\":\n",
    "        return [window * hanning_window(window.shape[0]) for window in windows]\n",
    "    else:\n",
    "        raise ValueError(\"Invalid window function specified; valid options: ['', 'hanning']\")"
   ]
  },
  {
   "cell_type": "code",
   "execution_count": 10,
   "id": "ebb43b12-0cfc-42b1-8463-73ec87d64aa4",
   "metadata": {
    "tags": []
   },
   "outputs": [],
   "source": [
    "def window_signal(frames: np.ndarray, window_duration: float = 0.005, overlap_perc: float = 0.5, window_type: str = \"\", sample_rate: int = 44_100) -> List[np.ndarray]:\n",
    "    \"\"\"\n",
    "    window_size: length of a short term window in seconds\n",
    "    window_duration: duration of window in seconds\n",
    "    overlap_perc: overlap percentage (as float) of full window\n",
    "    sample_rate: The sample rate of the original signal.\n",
    "    window_type: \n",
    "    \"\"\"\n",
    "    # Convert the window size from a measurement in seconds to a measurement in frames.\n",
    "    frames_per_window = math.ceil(window_duration * sample_rate)\n",
    "    # Calculate the overlap in frames based\n",
    "    overlap = window_duration * overlap_perc\n",
    "    frame_overlap = math.ceil(overlap * sample_rate)\n",
    "\n",
    "    # Split the sample array into windows.\n",
    "    windows = chunk_array(frames, frames_per_window, frame_overlap)\n",
    "    # Apply window function.\n",
    "    windows = apply_window(windows, window_type=window_type)\n",
    "\n",
    "    return windows"
   ]
  },
  {
   "cell_type": "code",
   "execution_count": 11,
   "id": "fcc32ba2-3076-460a-9139-5061bf52df24",
   "metadata": {
    "tags": []
   },
   "outputs": [],
   "source": [
    "def prepare_phone_data(phone_data: List[TimitObject], window_duration: float = 0.005, overlap_perc: float = 0.5, window_type: str = \"\", calc_freq=True) -> List[Phone]:\n",
    "    phones = []\n",
    "    frequencies = None\n",
    "    window_freqs = None\n",
    "    \n",
    "    for obj in phone_data:\n",
    "        for position, (phone_type, start, end) in enumerate(obj.phone_timings):\n",
    "            frames = obj.wav[start:end]\n",
    "            num_frames = frames.shape[0]\n",
    "            # Phones shorter than the window length are ignored.\n",
    "            if num_frames < 80:\n",
    "                continue\n",
    "            windows = window_signal(frames, window_duration=window_duration, overlap_perc=overlap_perc, window_type=window_type, sample_rate=obj.sample_rate)\n",
    "            \n",
    "\n",
    "            if calc_freq:\n",
    "                frequencies = np.fft.fft(frames)\n",
    "                window_freqs = [np.fft.fft(window) for window in windows]\n",
    "\n",
    "            phone = Phone(name=obj.name, position=position, phone_type=phone_type, frames=frames, num_frames=num_frames, frequencies=frequencies, windows=windows, window_duration=window_duration, sample_rate=obj.sample_rate, window_frequencies=window_freqs)\n",
    "            phones.append(phone)\n",
    "    \n",
    "    return phones"
   ]
  },
  {
   "cell_type": "code",
   "execution_count": 12,
   "id": "417cd7eb-72de-492d-b20f-94af747a79e4",
   "metadata": {
    "tags": []
   },
   "outputs": [],
   "source": [
    "def sort_by_phones(phone_data: List[Phone]) -> Dict[str, List[Phone]]:\n",
    "    phone_buckets = {}\n",
    "    for phone in phone_data:\n",
    "        phone_type = phone.phone_type\n",
    "        if phone_buckets.get(phone_type):\n",
    "            phone_buckets[phone_type].append(phone)\n",
    "        else:\n",
    "            phone_buckets[phone_type] = [phone]\n",
    "            \n",
    "    return phone_buckets"
   ]
  },
  {
   "cell_type": "markdown",
   "id": "ce2ed332-4263-427e-9d34-bbae8061cb1f",
   "metadata": {},
   "source": [
    "## Phone Recognition using kNN\n",
    "\n",
    "In this scenario it is assumed that the phone boundaries are already known."
   ]
  },
  {
   "cell_type": "code",
   "execution_count": 13,
   "id": "ce64621a-4ffa-4296-ac5d-a669d21f741e",
   "metadata": {
    "tags": []
   },
   "outputs": [],
   "source": [
    "def encode_phone_types(phone_types: List[str], phone_first: bool = True):\n",
    "    if phone_first:\n",
    "        return {phone: num for num, phone in enumerate(phone_types)}\n",
    "    else:\n",
    "        return {num: phone for num, phone in enumerate(phone_types)}"
   ]
  },
  {
   "cell_type": "code",
   "execution_count": 14,
   "id": "867b7206-e55a-4d82-893d-5639431ecfd2",
   "metadata": {
    "tags": []
   },
   "outputs": [],
   "source": [
    "def split_train_dev(phone_dict: Dict[str, List[Phone]], train_perc: float = 0.8) -> Tuple[Dict[str, List[Phone]]]:\n",
    "    \"\"\"\n",
    "    This method splits training and dev data so that the percentages of the phone_types\n",
    "    in the overall data are reflected.\n",
    "    \"\"\"\n",
    "    train_split = {}\n",
    "    dev_split = {}\n",
    "    for phone_type in phone_dict:\n",
    "        num_instances = len(phone_dict[phone_type])\n",
    "        num_train = math.ceil(num_instances * train_perc)\n",
    "        \n",
    "        shuffled = random.sample(phone_dict[phone_type], num_instances)\n",
    "        train_split[phone_type] = shuffled[:num_train]\n",
    "        dev_split[phone_type] = shuffled[num_train:]\n",
    "        \n",
    "    return train_split, dev_split"
   ]
  },
  {
   "cell_type": "code",
   "execution_count": 15,
   "id": "c5b5cc58-62ce-4650-8099-47811bcd7003",
   "metadata": {
    "tags": []
   },
   "outputs": [],
   "source": [
    "# Prepare data for KNN classifier.\n",
    "def prepare_encodings(train_split: Dict[str, List[Phone]], class_encoding) -> Tuple[np.ndarray, np.ndarray]:\n",
    "    # Prepare the encodings for training so that they come in numpy arrays.\n",
    "    x = []\n",
    "    y = []\n",
    "    for phone_type, phones in train_split.items():\n",
    "        for phone in phones:\n",
    "            # Calculate the magnitude of the complex numbers and use it as a representation.\n",
    "            windows = [np.sqrt(np.square(window.real) + np.square(window.imag)) for window in phone.window_frequencies]\n",
    "\n",
    "            x.extend(windows)\n",
    "            y.extend([class_encoding[phone_type]] * len(windows))\n",
    "\n",
    "    return np.stack(x), np.stack(y)"
   ]
  },
  {
   "cell_type": "code",
   "execution_count": 16,
   "id": "136da328-e756-49c6-a848-c135a60ae5cd",
   "metadata": {
    "tags": []
   },
   "outputs": [],
   "source": [
    "def infer_phone(knn: KNeighborsClassifier, phone: Phone, class_encoding) -> Tuple[np.ndarray, np.ndarray]:\n",
    "\n",
    "    # Remove the last window because it has fewer frequencies.\n",
    "    windows = phone.window_frequencies\n",
    "    # Calculate the magnitude of the complex numbers and use it as a representation.\n",
    "    windows = [np.abs(window) for window in windows]\n",
    "    \n",
    "    x = np.stack(windows)\n",
    "    y = class_encoding[phone.phone_type]\n",
    "\n",
    "    y_pred = knn.predict(x)\n",
    "    phone_pred = np.bincount(y_pred).argmax()\n",
    "    \n",
    "    return phone_pred, y"
   ]
  },
  {
   "cell_type": "code",
   "execution_count": 17,
   "id": "d34f0c86-3430-4e5b-903c-5341f814062a",
   "metadata": {
    "tags": []
   },
   "outputs": [],
   "source": [
    "def calc_dev_metrics(dev_split: Dict[str, List[Phone]], knn: KNeighborsClassifier, class_encoding: Dict[str, int]) -> Tuple[float, List[int], List[int]]:\n",
    "    \"\"\" \n",
    "    Calculate accuracy for actual phone prediction.\n",
    "    Also output all gold and all predicted values for the dev phones.\n",
    "    \"\"\"\n",
    "    all_pred = []\n",
    "    all_gold = []\n",
    "    correct = 0\n",
    "    total = 0\n",
    "\n",
    "    for phone_type, phones in dev_split.items():\n",
    "        for phone in phones:\n",
    "            try:\n",
    "                pred, gold = infer_phone(knn, phone, class_encoding)\n",
    "                all_pred.append(pred)\n",
    "                all_gold.append(gold)\n",
    "                if pred == gold:\n",
    "                    correct += 1\n",
    "                total += 1\n",
    "            except ValueError:\n",
    "                pass\n",
    "    return correct / total, all_gold, all_pred"
   ]
  },
  {
   "cell_type": "code",
   "execution_count": 18,
   "id": "8f386d04-cad8-41a9-9022-c9ff2db2d9be",
   "metadata": {
    "tags": []
   },
   "outputs": [],
   "source": [
    "def train_knn_phone_classifier(n_neighbors: int = 5, weights: str = \"uniform\"):\n",
    "    \n",
    "    timit_data = get_timit_objects(TIMIT_PATH)\n",
    "    phone_dict = sort_by_phones(prepare_phone_data(timit_data, window_type=\"hanning\", calc_freq=True))\n",
    "    class_encoding = encode_phone_types(list(phone_dict.keys()))\n",
    "    train_split, dev_split = split_train_dev(phone_dict, train_perc=0.9)\n",
    "    \n",
    "    x_train, y_train = prepare_encodings(train_split, class_encoding)\n",
    "    x_dev, y_dev = prepare_encodings(dev_split, class_encoding)\n",
    "    \n",
    "    knn = KNeighborsClassifier(n_neighbors=n_neighbors)\n",
    "    knn.fit(x_train, y_train)\n",
    "    \n",
    "    phone_dev_acc, all_gold, all_pred = calc_dev_metrics(dev_split, knn, class_encoding)\n",
    "    \n",
    "    frame_dev_preds = knn.predict(x_dev)\n",
    "    frame_dev_acc = np.equal(frame_dev_preds, y_dev).sum() / frame_dev_preds.shape[0]\n",
    "    \n",
    "    return phone_dev_acc, frame_dev_acc, knn"
   ]
  },
  {
   "cell_type": "code",
   "execution_count": 19,
   "id": "d4a40a8a-223f-40fc-8c89-fb3555f337e1",
   "metadata": {
    "tags": []
   },
   "outputs": [],
   "source": [
    "phone_dev_acc, frame_dev_acc, knn = train_knn_phone_classifier()"
   ]
  },
  {
   "cell_type": "code",
   "execution_count": 20,
   "id": "6df5ae4f-8879-4413-af36-5fa7a3e7752e",
   "metadata": {
    "tags": []
   },
   "outputs": [
    {
     "data": {
      "text/plain": [
       "(0.31197301854974707, 0.2958380202474691)"
      ]
     },
     "execution_count": 20,
     "metadata": {},
     "output_type": "execute_result"
    }
   ],
   "source": [
    "phone_dev_acc, frame_dev_acc"
   ]
  },
  {
   "cell_type": "code",
   "execution_count": 21,
   "id": "c5ba8e37-f158-4651-9809-3f558a491505",
   "metadata": {
    "tags": []
   },
   "outputs": [],
   "source": [
    "# confmat = confusion_matrix(all_gold, all_pred)"
   ]
  },
  {
   "cell_type": "code",
   "execution_count": 22,
   "id": "9525da12-5688-46a4-a263-4e7ab6c6f9dc",
   "metadata": {
    "tags": []
   },
   "outputs": [],
   "source": [
    "# print(classification_report(all_gold, all_pred))"
   ]
  },
  {
   "cell_type": "code",
   "execution_count": 23,
   "id": "418a294d-10c8-4dfe-9138-0c7a9a3b68db",
   "metadata": {},
   "outputs": [
    {
     "name": "stderr",
     "output_type": "stream",
     "text": [
      "2023-04-26 15:18:53,526\tINFO worker.py:1553 -- Started a local Ray instance.\n"
     ]
    },
    {
     "data": {
      "text/html": [
       "<div class=\"tuneStatus\">\n",
       "  <div style=\"display: flex;flex-direction: row\">\n",
       "    <div style=\"display: flex;flex-direction: column;\">\n",
       "      <h3>Tune Status</h3>\n",
       "      <table>\n",
       "<tbody>\n",
       "<tr><td>Current time:</td><td>2023-04-26 15:33:23</td></tr>\n",
       "<tr><td>Running for: </td><td>00:14:26.31        </td></tr>\n",
       "<tr><td>Memory:      </td><td>5.3/7.6 GiB        </td></tr>\n",
       "</tbody>\n",
       "</table>\n",
       "    </div>\n",
       "    <div class=\"vDivider\"></div>\n",
       "    <div class=\"systemInfo\">\n",
       "      <h3>System Info</h3>\n",
       "      Using FIFO scheduling algorithm.<br>Resources requested: 0/8 CPUs, 0/0 GPUs, 0.0/2.66 GiB heap, 0.0/1.33 GiB objects\n",
       "    </div>\n",
       "    \n",
       "  </div>\n",
       "  <div class=\"hDivider\"></div>\n",
       "  <div class=\"trialStatus\">\n",
       "    <h3>Trial Status</h3>\n",
       "    <table>\n",
       "<thead>\n",
       "<tr><th>Trial name                           </th><th>status    </th><th>loc                </th><th style=\"text-align: right;\">  n_neighbors</th><th>weights  </th><th style=\"text-align: right;\">  iter</th><th style=\"text-align: right;\">  total time (s)</th><th style=\"text-align: right;\">   score</th></tr>\n",
       "</thead>\n",
       "<tbody>\n",
       "<tr><td>tune_phone_classifier_knn_e6583_00000</td><td>TERMINATED</td><td>192.168.2.135:71668</td><td style=\"text-align: right;\">            2</td><td>uniform  </td><td style=\"text-align: right;\">     1</td><td style=\"text-align: right;\">        139.454 </td><td style=\"text-align: right;\">0.320405</td></tr>\n",
       "<tr><td>tune_phone_classifier_knn_e6583_00001</td><td>TERMINATED</td><td>192.168.2.135:71668</td><td style=\"text-align: right;\">            3</td><td>uniform  </td><td style=\"text-align: right;\">     1</td><td style=\"text-align: right;\">         76.7121</td><td style=\"text-align: right;\">0.320405</td></tr>\n",
       "<tr><td>tune_phone_classifier_knn_e6583_00002</td><td>TERMINATED</td><td>192.168.2.135:71668</td><td style=\"text-align: right;\">            5</td><td>distance </td><td style=\"text-align: right;\">     1</td><td style=\"text-align: right;\">         79.9681</td><td style=\"text-align: right;\">0.310287</td></tr>\n",
       "<tr><td>tune_phone_classifier_knn_e6583_00003</td><td>TERMINATED</td><td>192.168.2.135:71668</td><td style=\"text-align: right;\">            8</td><td>distance </td><td style=\"text-align: right;\">     1</td><td style=\"text-align: right;\">        113.092 </td><td style=\"text-align: right;\">0.335582</td></tr>\n",
       "<tr><td>tune_phone_classifier_knn_e6583_00004</td><td>TERMINATED</td><td>192.168.2.135:71668</td><td style=\"text-align: right;\">           10</td><td>uniform  </td><td style=\"text-align: right;\">     1</td><td style=\"text-align: right;\">        114.542 </td><td style=\"text-align: right;\">0.322091</td></tr>\n",
       "<tr><td>tune_phone_classifier_knn_e6583_00005</td><td>TERMINATED</td><td>192.168.2.135:71668</td><td style=\"text-align: right;\">           12</td><td>distance </td><td style=\"text-align: right;\">     1</td><td style=\"text-align: right;\">        111.667 </td><td style=\"text-align: right;\">0.332209</td></tr>\n",
       "<tr><td>tune_phone_classifier_knn_e6583_00006</td><td>TERMINATED</td><td>192.168.2.135:71668</td><td style=\"text-align: right;\">           15</td><td>uniform  </td><td style=\"text-align: right;\">     1</td><td style=\"text-align: right;\">        113.353 </td><td style=\"text-align: right;\">0.352445</td></tr>\n",
       "<tr><td>tune_phone_classifier_knn_e6583_00007</td><td>TERMINATED</td><td>192.168.2.135:71668</td><td style=\"text-align: right;\">           20</td><td>distance </td><td style=\"text-align: right;\">     1</td><td style=\"text-align: right;\">        112.159 </td><td style=\"text-align: right;\">0.335582</td></tr>\n",
       "</tbody>\n",
       "</table>\n",
       "  </div>\n",
       "</div>\n",
       "<style>\n",
       ".tuneStatus {\n",
       "  color: var(--jp-ui-font-color1);\n",
       "}\n",
       ".tuneStatus .systemInfo {\n",
       "  display: flex;\n",
       "  flex-direction: column;\n",
       "}\n",
       ".tuneStatus td {\n",
       "  white-space: nowrap;\n",
       "}\n",
       ".tuneStatus .trialStatus {\n",
       "  display: flex;\n",
       "  flex-direction: column;\n",
       "}\n",
       ".tuneStatus h3 {\n",
       "  font-weight: bold;\n",
       "}\n",
       ".tuneStatus .hDivider {\n",
       "  border-bottom-width: var(--jp-border-width);\n",
       "  border-bottom-color: var(--jp-border-color0);\n",
       "  border-bottom-style: solid;\n",
       "}\n",
       ".tuneStatus .vDivider {\n",
       "  border-left-width: var(--jp-border-width);\n",
       "  border-left-color: var(--jp-border-color0);\n",
       "  border-left-style: solid;\n",
       "  margin: 0.5em 1em 0.5em 1em;\n",
       "}\n",
       "</style>\n"
      ],
      "text/plain": [
       "<IPython.core.display.HTML object>"
      ]
     },
     "metadata": {},
     "output_type": "display_data"
    },
    {
     "data": {
      "text/html": [
       "<div class=\"trialProgress\">\n",
       "  <h3>Trial Progress</h3>\n",
       "  <table>\n",
       "<thead>\n",
       "<tr><th>Trial name                           </th><th>date               </th><th>done  </th><th>episodes_total  </th><th>experiment_id                   </th><th>experiment_tag                   </th><th>hostname  </th><th style=\"text-align: right;\">  iterations_since_restore</th><th>node_ip      </th><th style=\"text-align: right;\">  pid</th><th style=\"text-align: right;\">   score</th><th style=\"text-align: right;\">  time_since_restore</th><th style=\"text-align: right;\">  time_this_iter_s</th><th style=\"text-align: right;\">  time_total_s</th><th style=\"text-align: right;\">  timestamp</th><th style=\"text-align: right;\">  timesteps_since_restore</th><th>timesteps_total  </th><th style=\"text-align: right;\">  training_iteration</th><th>trial_id   </th><th style=\"text-align: right;\">  warmup_time</th></tr>\n",
       "</thead>\n",
       "<tbody>\n",
       "<tr><td>tune_phone_classifier_knn_e6583_00000</td><td>2023-04-26_15-21-21</td><td>True  </td><td>                </td><td>899f3c7a99144a95a3d901324621c740</td><td>0_n_neighbors=2,weights=uniform  </td><td>jannis    </td><td style=\"text-align: right;\">                         1</td><td>192.168.2.135</td><td style=\"text-align: right;\">71668</td><td style=\"text-align: right;\">0.320405</td><td style=\"text-align: right;\">            139.454 </td><td style=\"text-align: right;\">          139.454 </td><td style=\"text-align: right;\">      139.454 </td><td style=\"text-align: right;\"> 1682515281</td><td style=\"text-align: right;\">                        0</td><td>                 </td><td style=\"text-align: right;\">                   1</td><td>e6583_00000</td><td style=\"text-align: right;\">   0.00670958</td></tr>\n",
       "<tr><td>tune_phone_classifier_knn_e6583_00001</td><td>2023-04-26_15-22-38</td><td>True  </td><td>                </td><td>899f3c7a99144a95a3d901324621c740</td><td>1_n_neighbors=3,weights=uniform  </td><td>jannis    </td><td style=\"text-align: right;\">                         1</td><td>192.168.2.135</td><td style=\"text-align: right;\">71668</td><td style=\"text-align: right;\">0.320405</td><td style=\"text-align: right;\">             76.7121</td><td style=\"text-align: right;\">           76.7121</td><td style=\"text-align: right;\">       76.7121</td><td style=\"text-align: right;\"> 1682515358</td><td style=\"text-align: right;\">                        0</td><td>                 </td><td style=\"text-align: right;\">                   1</td><td>e6583_00001</td><td style=\"text-align: right;\">   0.00670958</td></tr>\n",
       "<tr><td>tune_phone_classifier_knn_e6583_00002</td><td>2023-04-26_15-23-58</td><td>True  </td><td>                </td><td>899f3c7a99144a95a3d901324621c740</td><td>2_n_neighbors=5,weights=distance </td><td>jannis    </td><td style=\"text-align: right;\">                         1</td><td>192.168.2.135</td><td style=\"text-align: right;\">71668</td><td style=\"text-align: right;\">0.310287</td><td style=\"text-align: right;\">             79.9681</td><td style=\"text-align: right;\">           79.9681</td><td style=\"text-align: right;\">       79.9681</td><td style=\"text-align: right;\"> 1682515438</td><td style=\"text-align: right;\">                        0</td><td>                 </td><td style=\"text-align: right;\">                   1</td><td>e6583_00002</td><td style=\"text-align: right;\">   0.00670958</td></tr>\n",
       "<tr><td>tune_phone_classifier_knn_e6583_00003</td><td>2023-04-26_15-25-51</td><td>True  </td><td>                </td><td>899f3c7a99144a95a3d901324621c740</td><td>3_n_neighbors=8,weights=distance </td><td>jannis    </td><td style=\"text-align: right;\">                         1</td><td>192.168.2.135</td><td style=\"text-align: right;\">71668</td><td style=\"text-align: right;\">0.335582</td><td style=\"text-align: right;\">            113.092 </td><td style=\"text-align: right;\">          113.092 </td><td style=\"text-align: right;\">      113.092 </td><td style=\"text-align: right;\"> 1682515551</td><td style=\"text-align: right;\">                        0</td><td>                 </td><td style=\"text-align: right;\">                   1</td><td>e6583_00003</td><td style=\"text-align: right;\">   0.00670958</td></tr>\n",
       "<tr><td>tune_phone_classifier_knn_e6583_00004</td><td>2023-04-26_15-27-46</td><td>True  </td><td>                </td><td>899f3c7a99144a95a3d901324621c740</td><td>4_n_neighbors=10,weights=uniform </td><td>jannis    </td><td style=\"text-align: right;\">                         1</td><td>192.168.2.135</td><td style=\"text-align: right;\">71668</td><td style=\"text-align: right;\">0.322091</td><td style=\"text-align: right;\">            114.542 </td><td style=\"text-align: right;\">          114.542 </td><td style=\"text-align: right;\">      114.542 </td><td style=\"text-align: right;\"> 1682515666</td><td style=\"text-align: right;\">                        0</td><td>                 </td><td style=\"text-align: right;\">                   1</td><td>e6583_00004</td><td style=\"text-align: right;\">   0.00670958</td></tr>\n",
       "<tr><td>tune_phone_classifier_knn_e6583_00005</td><td>2023-04-26_15-29-38</td><td>True  </td><td>                </td><td>899f3c7a99144a95a3d901324621c740</td><td>5_n_neighbors=12,weights=distance</td><td>jannis    </td><td style=\"text-align: right;\">                         1</td><td>192.168.2.135</td><td style=\"text-align: right;\">71668</td><td style=\"text-align: right;\">0.332209</td><td style=\"text-align: right;\">            111.667 </td><td style=\"text-align: right;\">          111.667 </td><td style=\"text-align: right;\">      111.667 </td><td style=\"text-align: right;\"> 1682515778</td><td style=\"text-align: right;\">                        0</td><td>                 </td><td style=\"text-align: right;\">                   1</td><td>e6583_00005</td><td style=\"text-align: right;\">   0.00670958</td></tr>\n",
       "<tr><td>tune_phone_classifier_knn_e6583_00006</td><td>2023-04-26_15-31-31</td><td>True  </td><td>                </td><td>899f3c7a99144a95a3d901324621c740</td><td>6_n_neighbors=15,weights=uniform </td><td>jannis    </td><td style=\"text-align: right;\">                         1</td><td>192.168.2.135</td><td style=\"text-align: right;\">71668</td><td style=\"text-align: right;\">0.352445</td><td style=\"text-align: right;\">            113.353 </td><td style=\"text-align: right;\">          113.353 </td><td style=\"text-align: right;\">      113.353 </td><td style=\"text-align: right;\"> 1682515891</td><td style=\"text-align: right;\">                        0</td><td>                 </td><td style=\"text-align: right;\">                   1</td><td>e6583_00006</td><td style=\"text-align: right;\">   0.00670958</td></tr>\n",
       "<tr><td>tune_phone_classifier_knn_e6583_00007</td><td>2023-04-26_15-33-23</td><td>True  </td><td>                </td><td>899f3c7a99144a95a3d901324621c740</td><td>7_n_neighbors=20,weights=distance</td><td>jannis    </td><td style=\"text-align: right;\">                         1</td><td>192.168.2.135</td><td style=\"text-align: right;\">71668</td><td style=\"text-align: right;\">0.335582</td><td style=\"text-align: right;\">            112.159 </td><td style=\"text-align: right;\">          112.159 </td><td style=\"text-align: right;\">      112.159 </td><td style=\"text-align: right;\"> 1682516003</td><td style=\"text-align: right;\">                        0</td><td>                 </td><td style=\"text-align: right;\">                   1</td><td>e6583_00007</td><td style=\"text-align: right;\">   0.00670958</td></tr>\n",
       "</tbody>\n",
       "</table>\n",
       "</div>\n",
       "<style>\n",
       ".trialProgress {\n",
       "  display: flex;\n",
       "  flex-direction: column;\n",
       "  color: var(--jp-ui-font-color1);\n",
       "}\n",
       ".trialProgress h3 {\n",
       "  font-weight: bold;\n",
       "}\n",
       ".trialProgress td {\n",
       "  white-space: nowrap;\n",
       "}\n",
       "</style>\n"
      ],
      "text/plain": [
       "<IPython.core.display.HTML object>"
      ]
     },
     "metadata": {},
     "output_type": "display_data"
    },
    {
     "name": "stderr",
     "output_type": "stream",
     "text": [
      "2023-04-26 15:33:23,620\tINFO tune.py:798 -- Total run time: 866.42 seconds (866.30 seconds for the tuning loop).\n"
     ]
    },
    {
     "name": "stdout",
     "output_type": "stream",
     "text": [
      "{'n_neighbors': 15, 'weights': 'uniform'}\n"
     ]
    }
   ],
   "source": [
    "# TODO: Implement hyperparameter tuning for the KNN classifier.\n",
    "\n",
    "# 1. Define an objective function.\n",
    "def tune_phone_classifier_knn(config):\n",
    "    phone_dev_acc, _, _ = train_knn_phone_classifier(n_neighbors=config[\"n_neighbors\"], weights=config[\"weights\"])\n",
    "\n",
    "    return {\"score\": phone_dev_acc}\n",
    "\n",
    "\n",
    "# 2. Define a search space.\n",
    "search_space = {\n",
    "    \"n_neighbors\": tune.grid_search([2,3,5,8,10,12,15,20]),\n",
    "    \"weights\": tune.choice([\"uniform\", \"distance\"]),\n",
    "}\n",
    "\n",
    "# 3. Start a Tune run and print the best result.\n",
    "trainable_with_resources = tune.with_resources(tune_phone_classifier_knn, {\"cpu\": 8})\n",
    "tuner = tune.Tuner(trainable_with_resources, param_space=search_space)\n",
    "results = tuner.fit()\n",
    "print(results.get_best_result(metric=\"score\", mode=\"max\").config)"
   ]
  },
  {
   "cell_type": "markdown",
   "id": "31ca84b0-2199-48c8-b8f5-ee93be053ead",
   "metadata": {},
   "source": [
    "### TODOS:\n",
    "\n",
    "1. Do hyperparameter tuning\n",
    "2. Put everything into Python files\n",
    "3. Makes models storable and readable in a \"models\" directory -> make subfolders for task and type of model"
   ]
  }
 ],
 "metadata": {
  "kernelspec": {
   "display_name": "speedy-panther",
   "language": "python",
   "name": "speedy-panther"
  },
  "language_info": {
   "codemirror_mode": {
    "name": "ipython",
    "version": 3
   },
   "file_extension": ".py",
   "mimetype": "text/x-python",
   "name": "python",
   "nbconvert_exporter": "python",
   "pygments_lexer": "ipython3",
   "version": "3.10.6"
  }
 },
 "nbformat": 4,
 "nbformat_minor": 5
}
